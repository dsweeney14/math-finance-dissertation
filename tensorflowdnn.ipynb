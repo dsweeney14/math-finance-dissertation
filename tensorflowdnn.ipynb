{
 "cells": [
  {
   "cell_type": "code",
   "id": "initial_id",
   "metadata": {
    "collapsed": true,
    "ExecuteTime": {
     "end_time": "2024-08-29T14:21:27.073092Z",
     "start_time": "2024-08-29T14:21:27.060054Z"
    }
   },
   "source": [
    "import tensorflow as tf\n",
    "import numpy as np\n",
    "from time import time\n",
    "import matplotlib.pyplot as plt"
   ],
   "outputs": [],
   "execution_count": 316
  },
  {
   "metadata": {
    "ExecuteTime": {
     "end_time": "2024-08-29T14:21:27.088068Z",
     "start_time": "2024-08-29T14:21:27.077047Z"
    }
   },
   "cell_type": "code",
   "source": [
    "# Set data type\n",
    "DTYPE='float32'\n",
    "tf.keras.backend.set_floatx(DTYPE)"
   ],
   "id": "136d248efdb68126",
   "outputs": [],
   "execution_count": 317
  },
  {
   "metadata": {
    "ExecuteTime": {
     "end_time": "2024-08-29T14:21:27.103090Z",
     "start_time": "2024-08-29T14:21:27.091048Z"
    }
   },
   "cell_type": "code",
   "source": [
    "# Define the parameters of the model\n",
    "T = 1 # T = 1 at maturity\n",
    "n = 50 # The number of trading days within a year \n",
    "dt = T/n # Define the time step size\n",
    "increments = np.linspace(0, T, n + 1) # Define the time sequence\n",
    "d = 100 # No. of dimensions\n",
    "sigma = 0.2 # Volatility - assumed constant\n",
    "r = 0.02 # Interest rate - assumed constant\n",
    "s = np.zeros(d) # Initialise an empty array to hold stock paths"
   ],
   "id": "f9e0668bf0fb0d0",
   "outputs": [],
   "execution_count": 318
  },
  {
   "metadata": {
    "ExecuteTime": {
     "end_time": "2024-08-29T14:21:27.150161Z",
     "start_time": "2024-08-29T14:21:27.140106Z"
    }
   },
   "cell_type": "code",
   "source": [
    "def simulate_paths(num_sample, rate, vol, dt, n, S0):\n",
    "    \n",
    "    # Define an array of Brownian motions\n",
    "    dW = np.random.normal(loc=0.0, scale=np.sqrt(dt), size=(num_sample, d, n)).astype(DTYPE)\n",
    "    \n",
    "    # Initialise the stock paths array with the S0 values\n",
    "    S = np.zeros((num_sample, d, n+1), dtype=DTYPE)\n",
    "    S[:, :, 0] = np.log(S0)\n",
    "    \n",
    "    for i in range(n):\n",
    "        S[:, :, i+1] = S[:, :, i] + (rate - 0.5 * vol)* dt + vol * dW[:, :, i]\n",
    "    \n",
    "    S = np.exp(S)\n",
    "    return S, dW"
   ],
   "id": "fd1d923b0e2a1fdf",
   "outputs": [],
   "execution_count": 319
  },
  {
   "metadata": {
    "ExecuteTime": {
     "end_time": "2024-08-29T14:21:27.198046Z",
     "start_time": "2024-08-29T14:21:27.170048Z"
    }
   },
   "cell_type": "code",
   "source": [
    "@tf.keras.utils.register_keras_serializable()\n",
    "class OptionPricingModel(tf.keras.Model):\n",
    "    def __init__(self, **kwargs):\n",
    "        super().__init__(**kwargs) # Initialise the model\n",
    "        \n",
    "        # Initialise the initial options price (allow this to vary uniformly) - needed to set a starting point for solving the problem. \n",
    "        C0 = np.random.uniform(low=0.1, high=0.4, size=1).astype(DTYPE)\n",
    "        self.C0 = tf.Variable(C0, trainable=True, name='C0') # Allow this to be updated during the training process\n",
    "\n",
    "        # Initialise gradient tracking for the options price at t=0 i.e. (∂C/∂S) (nabla)\n",
    "        gradient_C0 = np.random.uniform(low=-0.1, high=0.1, size=(1, d)).astype(DTYPE)\n",
    "        self.gradient_C0 = tf.Variable(gradient_C0, trainable=True, name='gradient_C0') # Allow this to be updated during the training process\n",
    "        \n",
    "        self._trainable_variables.append(self.C0)\n",
    "        self._trainable_variables.append(self.gradient_C0)\n",
    "        \n",
    "        # Create dense layer, no bias or activations\n",
    "        _dense = lambda dim: tf.keras.layers.Dense(\n",
    "            units=dim,\n",
    "            activation=None,\n",
    "            use_bias=False)\n",
    "        \n",
    "        # Create batch normalisation layer\n",
    "        _batch_norm = lambda : tf.keras.layers.BatchNormalization(\n",
    "            momentum=.99,\n",
    "            epsilon=1e-6,\n",
    "            beta_initializer=tf.random_normal_initializer(0.0, stddev=0.1),\n",
    "            gamma_initializer=tf.random_uniform_initializer(0.1, 0.5))\n",
    "        \n",
    "        # Initialise a list to hold the gradients of options price during training\n",
    "        self.gradient_Ci = []\n",
    "        \n",
    "        # Calculate the gradients for each time step\n",
    "        for _ in range(n - 1):\n",
    "            \n",
    "            # Allow batch normalisation on d-dimensional input\n",
    "            gradient = tf.keras.Sequential()\n",
    "            gradient.add(tf.keras.layers.Input(shape=(d,)))\n",
    "            gradient.add(_batch_norm())\n",
    "            \n",
    "            # Define two hidden layers, Dense and Batch connected by ReLU activation function\n",
    "            for _ in range(2):\n",
    "                gradient.add(_dense(d + 10))\n",
    "                gradient.add(_batch_norm())\n",
    "                gradient.add(tf.keras.layers.ReLU())\n",
    "            \n",
    "            # Add the calculated gradient at each time step to the gradient tracking list\n",
    "            gradient.add(_dense(d))\n",
    "            gradient.add(_batch_norm())\n",
    "            self.gradient_Ci.append(gradient)"
   ],
   "id": "f72340a67ba365fb",
   "outputs": [],
   "execution_count": 320
  },
  {
   "metadata": {
    "ExecuteTime": {
     "end_time": "2024-08-29T14:21:27.230089Z",
     "start_time": "2024-08-29T14:21:27.217045Z"
    }
   },
   "cell_type": "code",
   "source": [
    "def options_pricing(input_data, model, driver):\n",
    "    \n",
    "    S, dW = input_data\n",
    "\n",
    "    samples = S.shape[0]\n",
    "    \n",
    "    e_num_sample = tf.ones(shape=[samples, 1], dtype=DTYPE)\n",
    "    \n",
    "    # Value approximation at t0\n",
    "    y = e_num_sample * model.C0\n",
    "\n",
    "    # Gradient approximation at t0\n",
    "    z = e_num_sample * model.gradient_C0\n",
    "    \n",
    "    for i in range(n-1):\n",
    "        t = increments[i]\n",
    "        \n",
    "        # Determine terms in right-hand side of Y-update at t_i\n",
    "        side1 = - driver(t, S[:, :, i], y, z) * dt\n",
    "        side2 = tf.reduce_sum(z * dW[:, :, i], axis=1, keepdims=True)\n",
    "        \n",
    "        # Compute new value approximations at t_{i+1}\n",
    "        y = y + side1 + side2\n",
    "        z = model.gradient_Ci[i](S[:, :, i + 1]) / d\n",
    "    \n",
    "    drift = - driver(increments[n-1], S[:, :, n-1], y, z) * dt\n",
    "    diffusion = tf.reduce_sum(z * dW[:, :, n-1], axis=1, keepdims=True)\n",
    "\n",
    "    y = y + drift + diffusion\n",
    "    \n",
    "    return y"
   ],
   "id": "f3866f3a556c959f",
   "outputs": [],
   "execution_count": 321
  },
  {
   "metadata": {
    "ExecuteTime": {
     "end_time": "2024-08-29T14:21:27.309085Z",
     "start_time": "2024-08-29T14:21:27.247047Z"
    }
   },
   "cell_type": "code",
   "source": [
    "def loss_function(input_data, model, driver):\n",
    "     \n",
    "     S, _ = input_data\n",
    "     \n",
    "     y_pred = options_pricing(input_data, model, driver)\n",
    "     \n",
    "     terminal_mean = tf.reduce_mean(S[:, :, -1], axis=1)\n",
    "\n",
    "     basket_mean = tf.reduce_mean(terminal_mean)\n",
    "\n",
    "     payoff = tf.reduce_max(basket_mean - K)\n",
    "    \n",
    "     y = payoff\n",
    "     \n",
    "     diff = y - y_pred\n",
    "     \n",
    "     loss = tf.reduce_mean(tf.square(diff))\n",
    "     \n",
    "     return loss\n",
    "\n",
    "@tf.function\n",
    "def compute_loss_gradient(input_data, model, driver):\n",
    "    \n",
    "    with tf.GradientTape() as tape:\n",
    "        loss = loss_function(input_data, model, driver)\n",
    "    \n",
    "    gradient = tape.gradient(loss, model.trainable_variables)\n",
    "    \n",
    "    return gradient, loss"
   ],
   "id": "db773e76afc9c1a",
   "outputs": [],
   "execution_count": 322
  },
  {
   "metadata": {
    "ExecuteTime": {
     "end_time": "2024-08-29T14:21:32.573126Z",
     "start_time": "2024-08-29T14:21:27.311069Z"
    }
   },
   "cell_type": "code",
   "source": [
    "# Define the parameters of the Black-Scholes model\n",
    "delta = 2.0 / 3\n",
    "gammah = 0.2\n",
    "gammal = 0.02\n",
    "vh = 3\n",
    "vl = 7\n",
    "slope = (gammah - gammal) / (vh - vl)\n",
    "K = 85\n",
    "\n",
    "def driver(t, S, y, z):\n",
    "    linear = tf.nn.relu(tf.nn.relu(y - vh) * slope + gammah - gammal) + gammal\n",
    "    return (-(1 - delta) * linear - r) * y\n",
    "\n",
    "# Set learning rate\n",
    "lr = 5e-3\n",
    "# Choose optimizer for gradient descent step\n",
    "optimizer = tf.keras.optimizers.Adam(lr, epsilon=1e-8)\n",
    "\n",
    "# Initialize neural network architecture\n",
    "model = OptionPricingModel()\n",
    "y_star = 8\n",
    "\n",
    "# Initialize list containing history of losses\n",
    "history = []"
   ],
   "id": "620ab819b148afb",
   "outputs": [],
   "execution_count": 323
  },
  {
   "metadata": {
    "ExecuteTime": {
     "end_time": "2024-08-29T18:24:06.384452Z",
     "start_time": "2024-08-29T14:21:32.576045Z"
    }
   },
   "cell_type": "code",
   "source": [
    "t0 = time()\n",
    "\n",
    "num_epochs = 6000\n",
    "\n",
    "rng = np.random.default_rng(seed=1)\n",
    "S_min = 80\n",
    "S_max = 120\n",
    "# Create an array of initial stock prices\n",
    "S0 = rng.uniform(low=S_min, high=S_max, size=d).astype(DTYPE)\n",
    "\n",
    "for i in range(num_epochs):\n",
    "\n",
    "    # Simulate random paths\n",
    "    S, dW = simulate_paths(100, s, sigma, dt, n, S0)\n",
    "\n",
    "    gradient, loss = compute_loss_gradient((S, dW), model, driver)\n",
    "    optimizer.apply_gradients(zip(gradient, model.trainable_variables))\n",
    "\n",
    "    y = model.C0.numpy()[0]\n",
    "\n",
    "    current_time = time() - t0\n",
    "\n",
    "    l1abs = np.abs(y - y_star)\n",
    "    l1rel = l1abs / y_star\n",
    "\n",
    "    hentry = (i, loss.numpy(), y, l1rel, l1abs)\n",
    "    history.append(hentry)"
   ],
   "id": "b36fffca861c88c6",
   "outputs": [
    {
     "name": "stdout",
     "output_type": "stream",
     "text": [
      "  Iter        Loss        y   L1_rel    L1_abs   |   Time  Stepsize\n",
      "    0      56.8002   0.2855   0.9643    7.7145   |   15.5  5.00e-03\n",
      "  100      46.5002   0.7794   0.9026    7.2206   |  236.1  5.00e-03\n",
      "  200      41.4397   1.2549   0.8431    6.7451   |  443.3  5.00e-03\n",
      "  300      30.6112   1.7121   0.7860    6.2879   |  942.9  5.00e-03\n",
      "  400      28.4869   2.1489   0.7314    5.8511   | 1155.4  5.00e-03\n",
      "  500      23.5742   2.5684   0.6790    5.4316   | 1359.7  5.00e-03\n",
      "  600      21.2649   2.9653   0.6293    5.0347   | 1563.3  5.00e-03\n",
      "  700      16.2970   3.3333   0.5833    4.6667   | 1787.5  5.00e-03\n",
      "  800      12.2988   3.6814   0.5398    4.3186   | 2037.9  5.00e-03\n",
      "  900      11.2518   4.0122   0.4985    3.9878   | 2294.6  5.00e-03\n",
      " 1000       8.2556   4.3268   0.4591    3.6732   | 2540.0  5.00e-03\n",
      " 1100       8.1496   4.6243   0.4220    3.3757   | 2774.3  5.00e-03\n",
      " 1200       6.8668   4.9042   0.3870    3.0958   | 3027.9  5.00e-03\n",
      " 1300       5.2534   5.1665   0.3542    2.8335   | 3324.5  5.00e-03\n",
      " 1400       4.2353   5.4165   0.3229    2.5835   | 3608.8  5.00e-03\n",
      " 1500       4.3016   5.6473   0.2941    2.3527   | 3847.8  5.00e-03\n",
      " 1600       2.7911   5.8648   0.2669    2.1352   | 4083.9  5.00e-03\n",
      " 1700       2.0268   6.0651   0.2419    1.9349   | 4336.4  5.00e-03\n",
      " 1800       2.3007   6.2536   0.2183    1.7464   | 4641.5  5.00e-03\n",
      " 1900       0.9175   6.4248   0.1969    1.5752   | 4969.4  5.00e-03\n",
      " 2000       0.5315   6.5843   0.1770    1.4157   | 5260.3  5.00e-03\n",
      " 2100       0.8995   6.7309   0.1586    1.2691   | 5517.5  5.00e-03\n",
      " 2200       0.2703   6.8607   0.1424    1.1393   | 5747.1  5.00e-03\n",
      " 2300       0.4577   6.9832   0.1271    1.0168   | 6022.4  5.00e-03\n",
      " 2400       0.1349   7.0904   0.1137    0.9096   | 6266.2  5.00e-03\n",
      " 2500       0.0582   7.1865   0.1017    0.8135   | 6533.6  5.00e-03\n",
      " 2600       0.1373   7.2714   0.0911    0.7286   | 6800.6  5.00e-03\n",
      " 2700       0.0658   7.3315   0.0836    0.6685   | 7080.5  5.00e-03\n",
      " 2800       0.5659   7.3905   0.0762    0.6095   | 7372.0  5.00e-03\n",
      " 2900       0.2734   7.4402   0.0700    0.5598   | 7649.3  5.00e-03\n",
      " 3000       0.0026   7.4785   0.0652    0.5215   | 7904.6  5.00e-03\n",
      " 3100       0.0013   7.5011   0.0624    0.4989   | 8172.6  5.00e-03\n",
      " 3200       0.0258   7.5247   0.0594    0.4753   | 8497.0  5.00e-03\n",
      " 3300       0.0119   7.5374   0.0578    0.4626   | 8770.8  5.00e-03\n",
      " 3400       0.0008   7.5559   0.0555    0.4441   | 8995.4  5.00e-03\n",
      " 3500       0.0736   7.5736   0.0533    0.4264   | 9214.6  5.00e-03\n",
      " 3600       0.0024   7.5806   0.0524    0.4194   | 9429.7  5.00e-03\n",
      " 3700       0.0024   7.5861   0.0517    0.4139   | 9646.0  5.00e-03\n",
      " 3800       0.0195   7.5865   0.0517    0.4135   | 9865.9  5.00e-03\n",
      " 3900       0.0116   7.5810   0.0524    0.4190   | 10082.4  5.00e-03\n",
      " 4000       0.0257   7.5776   0.0528    0.4224   | 10301.6  5.00e-03\n",
      " 4100       0.0557   7.5896   0.0513    0.4104   | 10519.3  5.00e-03\n",
      " 4200       0.0008   7.5913   0.0511    0.4087   | 10736.5  5.00e-03\n",
      " 4300       0.0445   7.6133   0.0483    0.3867   | 10961.3  5.00e-03\n",
      " 4400       0.0175   7.5948   0.0507    0.4052   | 11179.2  5.00e-03\n",
      " 4500       0.0043   7.5977   0.0503    0.4023   | 11399.6  5.00e-03\n",
      " 4600       0.0033   7.5933   0.0508    0.4067   | 11614.8  5.00e-03\n",
      " 4700       0.0405   7.5949   0.0506    0.4051   | 11830.4  5.00e-03\n",
      " 4800       0.0045   7.5967   0.0504    0.4033   | 12059.4  5.00e-03\n",
      " 4900       0.0627   7.5884   0.0514    0.4116   | 12273.8  5.00e-03\n",
      " 5000       0.0043   7.6044   0.0495    0.3956   | 12480.3  5.00e-03\n",
      " 5100       0.0258   7.6003   0.0500    0.3997   | 12687.9  5.00e-03\n",
      " 5200       0.0008   7.5932   0.0509    0.4068   | 12892.7  5.00e-03\n",
      " 5300       0.0033   7.5992   0.0501    0.4008   | 13098.9  5.00e-03\n",
      " 5400       0.0012   7.6011   0.0499    0.3989   | 13305.4  5.00e-03\n",
      " 5500       0.0017   7.5981   0.0502    0.4019   | 13512.8  5.00e-03\n",
      " 5600       0.0068   7.5891   0.0514    0.4109   | 13720.2  5.00e-03\n",
      " 5700       0.0018   7.5898   0.0513    0.4102   | 13928.4  5.00e-03\n",
      " 5800       0.0334   7.5961   0.0505    0.4039   | 14137.2  5.00e-03\n",
      " 5900       0.1437   7.5788   0.0526    0.4212   | 14348.2  5.00e-03\n"
     ]
    }
   ],
   "execution_count": 324
  },
  {
   "metadata": {
    "ExecuteTime": {
     "end_time": "2024-08-29T18:36:30.012556Z",
     "start_time": "2024-08-29T18:36:29.738584Z"
    }
   },
   "cell_type": "code",
   "source": [
    "# Create the plot with specific size and higher resolution\n",
    "fig, ax = plt.subplots(figsize=(10, 6))  # Adjust the figure size as needed\n",
    "\n",
    "# Extract the number of epochs from the history length\n",
    "xrange = range(len(history))\n",
    "\n",
    "# Plot the third element from each entry in 'history'\n",
    "ax.plot(xrange, [loss[2] for loss in history], 'b-', label='Options Price', linewidth=2)\n",
    "fig.patch.set_facecolor('white')\n",
    "ax.set_facecolor('white')\n",
    "\n",
    "# Add labels and title with customized font size\n",
    "ax.set_xlabel('Epoch', fontsize=14)\n",
    "ax.set_ylabel('Options Price', fontsize=14)\n",
    "ax.set_title('DNN Options Pricing Model Training', fontsize=16)\n",
    "\n",
    "# Add a grid for better readability\n",
    "ax.grid(True, linestyle='--', alpha=0.7)\n",
    "\n",
    "# Add a legend with custom position\n",
    "ax.legend(loc='upper left', fontsize=12)\n",
    "\n",
    "# Customize tick parameters for better readability\n",
    "ax.tick_params(axis='both', which='major', labelsize=12)\n",
    "\n",
    "# Optionally, set limits for the y-axis to provide more context\n",
    "ax.set_ylim([min([loss[2] for loss in history]) * 0.95, max([loss[2] for loss in history]) * 1.05])\n",
    "\n",
    "# Display the plot\n",
    "plt.show()"
   ],
   "id": "64c97e763b7e0b96",
   "outputs": [
    {
     "data": {
      "text/plain": [
       "<Figure size 1000x600 with 1 Axes>"
      ],
      "image/png": "[encoded data removed]"
     },
     "metadata": {},
     "output_type": "display_data"
    }
   ],
   "execution_count": 337
  },
  {
   "metadata": {
    "ExecuteTime": {
     "end_time": "2024-08-29T18:27:51.728521Z",
     "start_time": "2024-08-29T18:27:49.262524Z"
    }
   },
   "cell_type": "code",
   "source": [
    "# Save the model for future use\n",
    "model.save('high_dim_black_scholes_bsde.kerasV2.keras')"
   ],
   "id": "3bdb96a58170f486",
   "outputs": [],
   "execution_count": 327
  },
  {
   "metadata": {
    "ExecuteTime": {
     "end_time": "2024-08-29T18:24:07.541458Z",
     "start_time": "2024-08-29T18:24:07.541458Z"
    }
   },
   "cell_type": "code",
   "source": [
    "# Load the model for marking\n",
    "load_model = tf.keras.models.load_model('high_dim_black_scholes_bsdeV2.keras')"
   ],
   "id": "87e73b72957b79dc",
   "outputs": [],
   "execution_count": null
  },
  {
   "metadata": {},
   "cell_type": "markdown",
   "source": "This code has been adapted from the original author - \"https://github.com/Mephistopheles-0/DeepBSDE/blob/main/Jupyter%20version%20(Black-Scholes%20Default%20risk%20Example).ipynb\".",
   "id": "d537d80caf169fe4"
  }
 ],
 "metadata": {
  "kernelspec": {
   "display_name": "Python 3",
   "language": "python",
   "name": "python3"
  },
  "language_info": {
   "codemirror_mode": {
    "name": "ipython",
    "version": 2
   },
   "file_extension": ".py",
   "mimetype": "text/x-python",
   "name": "python",
   "nbconvert_exporter": "python",
   "pygments_lexer": "ipython2",
   "version": "2.7.6"
  }
 },
 "nbformat": 4,
 "nbformat_minor": 5
}
